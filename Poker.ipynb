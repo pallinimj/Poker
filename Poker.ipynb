{
 "cells": [
  {
   "cell_type": "code",
   "execution_count": 2,
   "id": "institutional-stationery",
   "metadata": {},
   "outputs": [],
   "source": [
    "import math\n",
    "import random\n",
    "import string"
   ]
  },
  {
   "cell_type": "code",
   "execution_count": 28,
   "id": "helpful-cement",
   "metadata": {},
   "outputs": [],
   "source": [
    "class Cards():\n",
    "    # card values\n",
    "    val = [2,3,4,5,6,7,8,9,10,11,12,13,14]\n",
    "    # card suits\n",
    "    suits = ['S','C','D','H']\n",
    "    \n",
    "    def __init__ (self, val, suits):\n",
    "        self.cards = val\n",
    "        self.suits = suits\n",
    "    \n",
    "    # Replace numbers with face cards, combine with suits\n",
    "    def __str__ (self):\n",
    "        if self.val == 14:\n",
    "            val = 'A'\n",
    "        elif self.val == 13:\n",
    "            val = 'K'\n",
    "        elif self.val == 12:\n",
    "            val = 'Q'\n",
    "        elif self.val == 11:\n",
    "            val = 'J'\n",
    "        else:\n",
    "            val = self.val\n",
    "        return str(val) + ('_') + self.suits"
   ]
  },
  {
   "cell_type": "code",
   "execution_count": 29,
   "id": "related-pleasure",
   "metadata": {},
   "outputs": [],
   "source": [
    "class Deck():\n",
    "    \n",
    "    # Build the deck\n",
    "    def __init__ (self):\n",
    "        self.deck = []\n",
    "        for s in Cards.suits:\n",
    "            for c in Cards.val:\n",
    "                card = Cards(c, s)\n",
    "                self.deck.append(card)\n",
    "    \n",
    "    # Make sure there are the correct number of cards\n",
    "    def __len__(self):\n",
    "        return len(self.deck)\n",
    "    \n",
    "    # Shuffle the deck\n",
    "    def shuffle(self):\n",
    "        random.shuffle(self.deck)\n",
    "        \n",
    "    # Deal a single card\n",
    "    def deal(self):\n",
    "        if len(self) == 0:\n",
    "            return None\n",
    "        else:\n",
    "            return self.deck.pop(0)        \n",
    "    "
   ]
  },
  {
   "cell_type": "code",
   "execution_count": 30,
   "id": "atomic-amino",
   "metadata": {},
   "outputs": [],
   "source": [
    "deck = Deck()\n",
    "deck.shuffle()"
   ]
  },
  {
   "cell_type": "code",
   "execution_count": 31,
   "id": "extended-alpha",
   "metadata": {},
   "outputs": [],
   "source": [
    "p1_hand = []\n",
    "p2_hand = []\n",
    "\n",
    "for i in range(2):\n",
    "    p1_hand.append(deck.deal())\n",
    "    p2_hand.append(deck.deal())\n",
    "    "
   ]
  },
  {
   "cell_type": "code",
   "execution_count": 32,
   "id": "transparent-retail",
   "metadata": {},
   "outputs": [
    {
     "name": "stdout",
     "output_type": "stream",
     "text": [
      "[<__main__.Cards object at 0x0000018F0DEBD670>, <__main__.Cards object at 0x0000018F0DEBD160>]\n",
      "[<__main__.Cards object at 0x0000018F0DDF5BB0>, <__main__.Cards object at 0x0000018F0DDF5D00>]\n",
      "48\n"
     ]
    }
   ],
   "source": [
    "print(p1_hand)\n",
    "print(p2_hand)\n",
    "print(len(deck))"
   ]
  },
  {
   "cell_type": "code",
   "execution_count": 39,
   "id": "removed-positive",
   "metadata": {},
   "outputs": [
    {
     "name": "stdout",
     "output_type": "stream",
     "text": [
      "[2, 3, 4, 5, 6, 7, 8, 9, 10, 11, 12, 13, 14]_S\n",
      "[2, 3, 4, 5, 6, 7, 8, 9, 10, 11, 12, 13, 14]_S\n"
     ]
    }
   ],
   "source": [
    "for i in range(len(p1_hand)):\n",
    "    print(p1_hand[i])"
   ]
  }
 ],
 "metadata": {
  "kernelspec": {
   "display_name": "Python 3",
   "language": "python",
   "name": "python3"
  },
  "language_info": {
   "codemirror_mode": {
    "name": "ipython",
    "version": 3
   },
   "file_extension": ".py",
   "mimetype": "text/x-python",
   "name": "python",
   "nbconvert_exporter": "python",
   "pygments_lexer": "ipython3",
   "version": "3.8.4"
  }
 },
 "nbformat": 4,
 "nbformat_minor": 5
}
